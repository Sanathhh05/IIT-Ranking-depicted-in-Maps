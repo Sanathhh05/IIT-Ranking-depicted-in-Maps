{
 "cells": [
  {
   "cell_type": "code",
   "execution_count": 2,
   "id": "d60a866d-28f2-418f-b4a7-1048eae3b334",
   "metadata": {},
   "outputs": [
    {
     "name": "stdout",
     "output_type": "stream",
     "text": [
      "Collecting folium\n",
      "  Downloading folium-0.20.0-py2.py3-none-any.whl.metadata (4.2 kB)\n",
      "Collecting branca>=0.6.0 (from folium)\n",
      "  Downloading branca-0.8.1-py3-none-any.whl.metadata (1.5 kB)\n",
      "Requirement already satisfied: jinja2>=2.9 in c:\\users\\sanath\\appdata\\local\\programs\\python\\python313\\lib\\site-packages (from folium) (3.1.6)\n",
      "Requirement already satisfied: numpy in c:\\users\\sanath\\appdata\\local\\programs\\python\\python313\\lib\\site-packages (from folium) (2.3.2)\n",
      "Requirement already satisfied: requests in c:\\users\\sanath\\appdata\\local\\programs\\python\\python313\\lib\\site-packages (from folium) (2.32.4)\n",
      "Collecting xyzservices (from folium)\n",
      "  Downloading xyzservices-2025.4.0-py3-none-any.whl.metadata (4.3 kB)\n",
      "Requirement already satisfied: MarkupSafe>=2.0 in c:\\users\\sanath\\appdata\\local\\programs\\python\\python313\\lib\\site-packages (from jinja2>=2.9->folium) (3.0.2)\n",
      "Requirement already satisfied: charset_normalizer<4,>=2 in c:\\users\\sanath\\appdata\\local\\programs\\python\\python313\\lib\\site-packages (from requests->folium) (3.4.2)\n",
      "Requirement already satisfied: idna<4,>=2.5 in c:\\users\\sanath\\appdata\\local\\programs\\python\\python313\\lib\\site-packages (from requests->folium) (3.10)\n",
      "Requirement already satisfied: urllib3<3,>=1.21.1 in c:\\users\\sanath\\appdata\\local\\programs\\python\\python313\\lib\\site-packages (from requests->folium) (2.5.0)\n",
      "Requirement already satisfied: certifi>=2017.4.17 in c:\\users\\sanath\\appdata\\local\\programs\\python\\python313\\lib\\site-packages (from requests->folium) (2025.7.14)\n",
      "Downloading folium-0.20.0-py2.py3-none-any.whl (113 kB)\n",
      "Downloading branca-0.8.1-py3-none-any.whl (26 kB)\n",
      "Downloading xyzservices-2025.4.0-py3-none-any.whl (90 kB)\n",
      "Installing collected packages: xyzservices, branca, folium\n",
      "\n",
      "   ---------------------------------------- 3/3 [folium]\n",
      "\n",
      "Successfully installed branca-0.8.1 folium-0.20.0 xyzservices-2025.4.0\n"
     ]
    },
    {
     "name": "stderr",
     "output_type": "stream",
     "text": [
      "\n",
      "[notice] A new release of pip is available: 25.1.1 -> 25.2\n",
      "[notice] To update, run: python.exe -m pip install --upgrade pip\n"
     ]
    }
   ],
   "source": [
    "!pip install folium"
   ]
  },
  {
   "cell_type": "code",
   "execution_count": 13,
   "id": "fdf352a5-65c5-4785-88c8-72c4b96faf69",
   "metadata": {},
   "outputs": [
    {
     "ename": "ValueError",
     "evalue": "Marker location must be assigned when added directly to map.",
     "output_type": "error",
     "traceback": [
      "\u001b[31m---------------------------------------------------------------------------\u001b[39m",
      "\u001b[31mValueError\u001b[39m                                Traceback (most recent call last)",
      "\u001b[36mCell\u001b[39m\u001b[36m \u001b[39m\u001b[32mIn[13]\u001b[39m\u001b[32m, line 19\u001b[39m\n\u001b[32m     17\u001b[39m \u001b[38;5;28mmap\u001b[39m=folium.Map(Location=[\u001b[32m20.000\u001b[39m,\u001b[32m75.000\u001b[39m],zoom_start=\u001b[32m4\u001b[39m)\n\u001b[32m     18\u001b[39m \u001b[38;5;28mmap\u001b[39m.add_child(fg)\n\u001b[32m---> \u001b[39m\u001b[32m19\u001b[39m \u001b[38;5;28;43mmap\u001b[39;49m\u001b[43m.\u001b[49m\u001b[43msave\u001b[49m\u001b[43m(\u001b[49m\u001b[33;43m\"\u001b[39;49m\u001b[33;43mfinal.html\u001b[39;49m\u001b[33;43m\"\u001b[39;49m\u001b[43m)\u001b[49m\n",
      "\u001b[36mFile \u001b[39m\u001b[32m~\\AppData\\Local\\Programs\\Python\\Python313\\Lib\\site-packages\\branca\\element.py:228\u001b[39m, in \u001b[36mElement.save\u001b[39m\u001b[34m(self, outfile, close_file, **kwargs)\u001b[39m\n\u001b[32m    225\u001b[39m     fid = outfile\n\u001b[32m    227\u001b[39m root = \u001b[38;5;28mself\u001b[39m.get_root()\n\u001b[32m--> \u001b[39m\u001b[32m228\u001b[39m html = \u001b[43mroot\u001b[49m\u001b[43m.\u001b[49m\u001b[43mrender\u001b[49m\u001b[43m(\u001b[49m\u001b[43m*\u001b[49m\u001b[43m*\u001b[49m\u001b[43mkwargs\u001b[49m\u001b[43m)\u001b[49m\n\u001b[32m    229\u001b[39m fid.write(html.encode(\u001b[33m\"\u001b[39m\u001b[33mutf8\u001b[39m\u001b[33m\"\u001b[39m))\n\u001b[32m    230\u001b[39m \u001b[38;5;28;01mif\u001b[39;00m close_file:\n",
      "\u001b[36mFile \u001b[39m\u001b[32m~\\AppData\\Local\\Programs\\Python\\Python313\\Lib\\site-packages\\branca\\element.py:405\u001b[39m, in \u001b[36mFigure.render\u001b[39m\u001b[34m(self, **kwargs)\u001b[39m\n\u001b[32m    403\u001b[39m \u001b[38;5;250m\u001b[39m\u001b[33;03m\"\"\"Renders the HTML representation of the element.\"\"\"\u001b[39;00m\n\u001b[32m    404\u001b[39m \u001b[38;5;28;01mfor\u001b[39;00m name, child \u001b[38;5;129;01min\u001b[39;00m \u001b[38;5;28mself\u001b[39m._children.items():\n\u001b[32m--> \u001b[39m\u001b[32m405\u001b[39m     \u001b[43mchild\u001b[49m\u001b[43m.\u001b[49m\u001b[43mrender\u001b[49m\u001b[43m(\u001b[49m\u001b[43m*\u001b[49m\u001b[43m*\u001b[49m\u001b[43mkwargs\u001b[49m\u001b[43m)\u001b[49m\n\u001b[32m    406\u001b[39m \u001b[38;5;28;01mreturn\u001b[39;00m \u001b[38;5;28mself\u001b[39m._template.render(this=\u001b[38;5;28mself\u001b[39m, kwargs=kwargs)\n",
      "\u001b[36mFile \u001b[39m\u001b[32m~\\AppData\\Local\\Programs\\Python\\Python313\\Lib\\site-packages\\folium\\elements.py:46\u001b[39m, in \u001b[36mJSCSSMixin.render\u001b[39m\u001b[34m(self, **kwargs)\u001b[39m\n\u001b[32m     43\u001b[39m \u001b[38;5;28;01mfor\u001b[39;00m name, url \u001b[38;5;129;01min\u001b[39;00m \u001b[38;5;28mself\u001b[39m.default_css:\n\u001b[32m     44\u001b[39m     figure.header.add_child(CssLink(url), name=name)\n\u001b[32m---> \u001b[39m\u001b[32m46\u001b[39m \u001b[38;5;28;43msuper\u001b[39;49m\u001b[43m(\u001b[49m\u001b[43m)\u001b[49m\u001b[43m.\u001b[49m\u001b[43mrender\u001b[49m\u001b[43m(\u001b[49m\u001b[43m*\u001b[49m\u001b[43m*\u001b[49m\u001b[43mkwargs\u001b[49m\u001b[43m)\u001b[49m\n",
      "\u001b[36mFile \u001b[39m\u001b[32m~\\AppData\\Local\\Programs\\Python\\Python313\\Lib\\site-packages\\folium\\map.py:73\u001b[39m, in \u001b[36mClass.render\u001b[39m\u001b[34m(self, **kwargs)\u001b[39m\n\u001b[32m     64\u001b[39m     \u001b[38;5;66;03m# A bit weird. I tried adding IncludeStatement directly to both\u001b[39;00m\n\u001b[32m     65\u001b[39m     \u001b[38;5;66;03m# figure and script, but failed. So we render this ourself.\u001b[39;00m\n\u001b[32m     66\u001b[39m     figure.script.add_child(\n\u001b[32m     67\u001b[39m         Element(stmt._template.render(this=stmt, kwargs=\u001b[38;5;28mself\u001b[39m.includes)),\n\u001b[32m     68\u001b[39m         \u001b[38;5;66;03m# make sure each class include gets rendered only once\u001b[39;00m\n\u001b[32m   (...)\u001b[39m\u001b[32m     71\u001b[39m         index=-\u001b[32m1\u001b[39m,\n\u001b[32m     72\u001b[39m     )\n\u001b[32m---> \u001b[39m\u001b[32m73\u001b[39m \u001b[38;5;28;43msuper\u001b[39;49m\u001b[43m(\u001b[49m\u001b[43m)\u001b[49m\u001b[43m.\u001b[49m\u001b[43mrender\u001b[49m\u001b[43m(\u001b[49m\u001b[43m*\u001b[49m\u001b[43m*\u001b[49m\u001b[43mkwargs\u001b[49m\u001b[43m)\u001b[49m\n",
      "\u001b[36mFile \u001b[39m\u001b[32m~\\AppData\\Local\\Programs\\Python\\Python313\\Lib\\site-packages\\branca\\element.py:736\u001b[39m, in \u001b[36mMacroElement.render\u001b[39m\u001b[34m(self, **kwargs)\u001b[39m\n\u001b[32m    733\u001b[39m     figure.script.add_child(Element(script(\u001b[38;5;28mself\u001b[39m, kwargs)), name=\u001b[38;5;28mself\u001b[39m.get_name())\n\u001b[32m    735\u001b[39m \u001b[38;5;28;01mfor\u001b[39;00m name, element \u001b[38;5;129;01min\u001b[39;00m \u001b[38;5;28mself\u001b[39m._children.items():\n\u001b[32m--> \u001b[39m\u001b[32m736\u001b[39m     \u001b[43melement\u001b[49m\u001b[43m.\u001b[49m\u001b[43mrender\u001b[49m\u001b[43m(\u001b[49m\u001b[43m*\u001b[49m\u001b[43m*\u001b[49m\u001b[43mkwargs\u001b[49m\u001b[43m)\u001b[49m\n",
      "\u001b[36mFile \u001b[39m\u001b[32m~\\AppData\\Local\\Programs\\Python\\Python313\\Lib\\site-packages\\folium\\map.py:137\u001b[39m, in \u001b[36mLayer.render\u001b[39m\u001b[34m(self, **kwargs)\u001b[39m\n\u001b[32m    129\u001b[39m \u001b[38;5;28;01mif\u001b[39;00m \u001b[38;5;28mself\u001b[39m.show:\n\u001b[32m    130\u001b[39m     \u001b[38;5;28mself\u001b[39m.add_child(\n\u001b[32m    131\u001b[39m         ElementAddToElement(\n\u001b[32m    132\u001b[39m             element_name=\u001b[38;5;28mself\u001b[39m.get_name(),\n\u001b[32m   (...)\u001b[39m\u001b[32m    135\u001b[39m         name=\u001b[38;5;28mself\u001b[39m.get_name() + \u001b[33m\"\u001b[39m\u001b[33m_add\u001b[39m\u001b[33m\"\u001b[39m,\n\u001b[32m    136\u001b[39m     )\n\u001b[32m--> \u001b[39m\u001b[32m137\u001b[39m \u001b[38;5;28;43msuper\u001b[39;49m\u001b[43m(\u001b[49m\u001b[43m)\u001b[49m\u001b[43m.\u001b[49m\u001b[43mrender\u001b[49m\u001b[43m(\u001b[49m\u001b[43m*\u001b[49m\u001b[43m*\u001b[49m\u001b[43mkwargs\u001b[49m\u001b[43m)\u001b[49m\n",
      "\u001b[36mFile \u001b[39m\u001b[32m~\\AppData\\Local\\Programs\\Python\\Python313\\Lib\\site-packages\\folium\\map.py:73\u001b[39m, in \u001b[36mClass.render\u001b[39m\u001b[34m(self, **kwargs)\u001b[39m\n\u001b[32m     64\u001b[39m     \u001b[38;5;66;03m# A bit weird. I tried adding IncludeStatement directly to both\u001b[39;00m\n\u001b[32m     65\u001b[39m     \u001b[38;5;66;03m# figure and script, but failed. So we render this ourself.\u001b[39;00m\n\u001b[32m     66\u001b[39m     figure.script.add_child(\n\u001b[32m     67\u001b[39m         Element(stmt._template.render(this=stmt, kwargs=\u001b[38;5;28mself\u001b[39m.includes)),\n\u001b[32m     68\u001b[39m         \u001b[38;5;66;03m# make sure each class include gets rendered only once\u001b[39;00m\n\u001b[32m   (...)\u001b[39m\u001b[32m     71\u001b[39m         index=-\u001b[32m1\u001b[39m,\n\u001b[32m     72\u001b[39m     )\n\u001b[32m---> \u001b[39m\u001b[32m73\u001b[39m \u001b[38;5;28;43msuper\u001b[39;49m\u001b[43m(\u001b[49m\u001b[43m)\u001b[49m\u001b[43m.\u001b[49m\u001b[43mrender\u001b[49m\u001b[43m(\u001b[49m\u001b[43m*\u001b[49m\u001b[43m*\u001b[49m\u001b[43mkwargs\u001b[49m\u001b[43m)\u001b[49m\n",
      "\u001b[36mFile \u001b[39m\u001b[32m~\\AppData\\Local\\Programs\\Python\\Python313\\Lib\\site-packages\\branca\\element.py:736\u001b[39m, in \u001b[36mMacroElement.render\u001b[39m\u001b[34m(self, **kwargs)\u001b[39m\n\u001b[32m    733\u001b[39m     figure.script.add_child(Element(script(\u001b[38;5;28mself\u001b[39m, kwargs)), name=\u001b[38;5;28mself\u001b[39m.get_name())\n\u001b[32m    735\u001b[39m \u001b[38;5;28;01mfor\u001b[39;00m name, element \u001b[38;5;129;01min\u001b[39;00m \u001b[38;5;28mself\u001b[39m._children.items():\n\u001b[32m--> \u001b[39m\u001b[32m736\u001b[39m     \u001b[43melement\u001b[49m\u001b[43m.\u001b[49m\u001b[43mrender\u001b[49m\u001b[43m(\u001b[49m\u001b[43m*\u001b[49m\u001b[43m*\u001b[49m\u001b[43mkwargs\u001b[49m\u001b[43m)\u001b[49m\n",
      "\u001b[36mFile \u001b[39m\u001b[32m~\\AppData\\Local\\Programs\\Python\\Python313\\Lib\\site-packages\\folium\\map.py:476\u001b[39m, in \u001b[36mMarker.render\u001b[39m\u001b[34m(self)\u001b[39m\n\u001b[32m    474\u001b[39m \u001b[38;5;28;01mdef\u001b[39;00m\u001b[38;5;250m \u001b[39m\u001b[34mrender\u001b[39m(\u001b[38;5;28mself\u001b[39m):\n\u001b[32m    475\u001b[39m     \u001b[38;5;28;01mif\u001b[39;00m \u001b[38;5;28mself\u001b[39m.location \u001b[38;5;129;01mis\u001b[39;00m \u001b[38;5;28;01mNone\u001b[39;00m:\n\u001b[32m--> \u001b[39m\u001b[32m476\u001b[39m         \u001b[38;5;28;01mraise\u001b[39;00m \u001b[38;5;167;01mValueError\u001b[39;00m(\n\u001b[32m    477\u001b[39m             \u001b[33mf\u001b[39m\u001b[33m\"\u001b[39m\u001b[38;5;132;01m{\u001b[39;00m\u001b[38;5;28mself\u001b[39m._name\u001b[38;5;132;01m}\u001b[39;00m\u001b[33m location must be assigned when added directly to map.\u001b[39m\u001b[33m\"\u001b[39m\n\u001b[32m    478\u001b[39m         )\n\u001b[32m    479\u001b[39m     \u001b[38;5;28;01mif\u001b[39;00m \u001b[38;5;28mself\u001b[39m.icon:\n\u001b[32m    480\u001b[39m         \u001b[38;5;28mself\u001b[39m.add_child(\u001b[38;5;28mself\u001b[39m.SetIcon(marker=\u001b[38;5;28mself\u001b[39m, icon=\u001b[38;5;28mself\u001b[39m.icon))\n",
      "\u001b[31mValueError\u001b[39m: Marker location must be assigned when added directly to map."
     ]
    }
   ],
   "source": [
    "import folium\n",
    "import pandas\n",
    "data=pandas.read_excel(r\"C:\\Users\\Sanath\\iit_data.xlsx\")\n",
    "iit_rank=list(data[\"IIT Ranking\"])\n",
    "college_name=list(data[\"IIT College\"])\n",
    "Nirf_scorek=list(data[\"NIRF Score\"])\n",
    "lat=list(data[\"Latitude\"])\n",
    "lon=list(data[\"Longitude\"])\n",
    "pic=list(data[\"Image\"])\n",
    "fg=folium.FeatureGroup(\"map\")\n",
    "fg.add_child(folium.GeoJson(data=(open(\"india_states.json\",\"r\",encoding=\"utf-8-sig\").read())))\n",
    "\n",
    "for rank,name,score,lati,longi,ima in zip(iit_rank,college_name,Nirf_scorek,lat,lon,pic):\n",
    "    fg.add_child(folium.Marker(Location=[lati,longi],popup=\"<b>College name : </b>\"+str(name)+\"<br><b>Rank among iit in india : </b>\"+str(rank)+\"<br><b>img src\"+ima+\n",
    "                              \"height=145,width=300>\",icon=folium.Icon(color=\"red\")))\n",
    "\n",
    "map=folium.Map(Location=[20.000,75.000],zoom_start=4)\n",
    "map.add_child(fg)\n",
    "map.save(\"final.html\")"
   ]
  },
  {
   "cell_type": "code",
   "execution_count": 14,
   "id": "5fe0d94e-a238-461d-b034-a1dbd5000500",
   "metadata": {},
   "outputs": [],
   "source": [
    "import folium\n",
    "import pandas as pd\n",
    "\n",
    "# Load data\n",
    "data = pd.read_excel(r\"C:\\Users\\Sanath\\iit_data.xlsx\")\n",
    "\n",
    "iit_rank = list(data[\"IIT Ranking\"])\n",
    "college_name = list(data[\"IIT College\"])\n",
    "nirf_score = list(data[\"NIRF Score\"])\n",
    "lat = list(data[\"Latitude\"])\n",
    "lon = list(data[\"Longitude\"])\n",
    "pic = list(data[\"Image\"])\n",
    "\n",
    "# Create feature group\n",
    "fg = folium.FeatureGroup(\"map\")\n",
    "\n",
    "# Add India states geojson\n",
    "fg.add_child(\n",
    "    folium.GeoJson(\n",
    "        data=(open(\"india_states.json\", \"r\", encoding=\"utf-8-sig\").read())\n",
    "    )\n",
    ")\n",
    "\n",
    "# Add markers\n",
    "for rank, name, score, lati, longi, ima in zip(iit_rank, college_name, nirf_score, lat, lon, pic):\n",
    "    html = f\"\"\"\n",
    "    <b>College name :</b> {name}<br>\n",
    "    <b>Rank among IIT in India :</b> {rank}<br>\n",
    "    <b>NIRF Score :</b> {score}<br>\n",
    "    <img src='{ima}' height='145' width='300'>\n",
    "    \"\"\"\n",
    "    popup = folium.Popup(html, max_width=400)\n",
    "    fg.add_child(folium.Marker(location=[lati, longi], popup=popup, icon=folium.Icon(color=\"red\")))\n",
    "\n",
    "# Create map\n",
    "iit_map = folium.Map(location=[20.0, 75.0], zoom_start=4)\n",
    "iit_map.add_child(fg)\n",
    "\n",
    "# Save to HTML\n",
    "iit_map.save(\"final.html\")\n"
   ]
  },
  {
   "cell_type": "code",
   "execution_count": 15,
   "id": "a76adf7c-9517-4e29-b575-72cc89d8d0f6",
   "metadata": {},
   "outputs": [],
   "source": [
    "import folium\n",
    "import pandas as pd\n",
    "\n",
    "# Load data\n",
    "data = pd.read_excel(r\"C:\\Users\\Sanath\\iit_data.xlsx\")\n",
    "\n",
    "iit_rank = list(data[\"IIT Ranking\"])\n",
    "college_name = list(data[\"IIT College\"])\n",
    "nirf_score = list(data[\"NIRF Score\"])\n",
    "lat = list(data[\"Latitude\"])\n",
    "lon = list(data[\"Longitude\"])\n",
    "pic = list(data[\"Image\"])\n",
    "\n",
    "# Create feature group\n",
    "fg = folium.FeatureGroup(\"map\")\n",
    "\n",
    "# Add India states geojson\n",
    "fg.add_child(\n",
    "    folium.GeoJson(\n",
    "        data=(open(\"india_states.json\", \"r\", encoding=\"utf-8-sig\").read())\n",
    "    )\n",
    ")\n",
    "\n",
    "# Add markers with styled card popup    #zip joins all list together\n",
    "for rank, name, score, lati, longi, ima in zip(iit_rank, college_name, nirf_score, lat, lon, pic):\n",
    "    html = f\"\"\"\n",
    "    <div style=\"width:300px; font-family:Arial; border-radius:8px; box-shadow:0px 2px 6px rgba(0,0,0,0.3); overflow:hidden;\">\n",
    "        <img src='{ima}' style=\"width:100%; height:150px; object-fit:cover; border-bottom:2px solid #ddd;\">\n",
    "        <div style=\"padding:10px;\">\n",
    "            <h4 style=\"margin:0; color:#2c3e50;\">{name}</h4>\n",
    "            <p style=\"margin:4px 0;\"><b>Rank:</b> {rank}</p>\n",
    "            <p style=\"margin:4px 0;\"><b>NIRF Score:</b> {score}</p>\n",
    "        </div>\n",
    "    </div>\n",
    "    \"\"\"\n",
    "    popup = folium.Popup(html, max_width=350)\n",
    "    fg.add_child(folium.Marker(\n",
    "        location=[lati, longi],\n",
    "        popup=popup,\n",
    "        icon=folium.Icon(color=\"red\", icon=\"university\", prefix=\"fa\")\n",
    "    ))\n",
    "\n",
    "# Create map\n",
    "iit_map = folium.Map(location=[20.0, 75.0], zoom_start=4)\n",
    "iit_map.add_child(fg)\n",
    "\n",
    "# Save to HTML\n",
    "iit_map.save(\"final.html\")\n"
   ]
  },
  {
   "cell_type": "code",
   "execution_count": null,
   "id": "d96613cc-d587-4927-a928-9df2b803a8b1",
   "metadata": {},
   "outputs": [],
   "source": []
  },
  {
   "cell_type": "code",
   "execution_count": null,
   "id": "1608df59-4502-46a3-8b32-c25acff62cb9",
   "metadata": {},
   "outputs": [],
   "source": []
  },
  {
   "cell_type": "code",
   "execution_count": null,
   "id": "691f5752-ebe3-43b2-88c8-a65d9d009aa4",
   "metadata": {},
   "outputs": [],
   "source": []
  }
 ],
 "metadata": {
  "kernelspec": {
   "display_name": "Python 3 (ipykernel)",
   "language": "python",
   "name": "python3"
  },
  "language_info": {
   "codemirror_mode": {
    "name": "ipython",
    "version": 3
   },
   "file_extension": ".py",
   "mimetype": "text/x-python",
   "name": "python",
   "nbconvert_exporter": "python",
   "pygments_lexer": "ipython3",
   "version": "3.13.5"
  }
 },
 "nbformat": 4,
 "nbformat_minor": 5
}
